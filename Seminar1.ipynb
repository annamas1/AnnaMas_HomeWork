{
  "nbformat": 4,
  "nbformat_minor": 0,
  "metadata": {
    "colab": {
      "provenance": [],
      "authorship_tag": "ABX9TyO7Y8hlaGvpRpN01Y1qhORj",
      "include_colab_link": true
    },
    "kernelspec": {
      "name": "python3",
      "display_name": "Python 3"
    },
    "language_info": {
      "name": "python"
    }
  },
  "cells": [
    {
      "cell_type": "markdown",
      "metadata": {
        "id": "view-in-github",
        "colab_type": "text"
      },
      "source": [
        "<a href=\"https://colab.research.google.com/github/annamas1/AnnaMas_HomeWork/blob/master/Seminar1.ipynb\" target=\"_parent\"><img src=\"https://colab.research.google.com/assets/colab-badge.svg\" alt=\"Open In Colab\"/></a>"
      ]
    },
    {
      "cell_type": "markdown",
      "source": [
        "**Семинар 1**"
      ],
      "metadata": {
        "id": "OvtfHLmSF7sg"
      }
    },
    {
      "cell_type": "markdown",
      "source": [
        "***Задание 1***"
      ],
      "metadata": {
        "id": "eVYXI532G4X7"
      }
    },
    {
      "cell_type": "markdown",
      "source": [
        "1.1 Соедините два словаря в один"
      ],
      "metadata": {
        "id": "kDwce2MUFjAR"
      }
    },
    {
      "cell_type": "code",
      "source": [
        "dict1 = {'One': 1, 'Two': 2, 'Three': 3}\n",
        "dict2 = {'Four': 4, 'Five': 5, 'Six': 6}\n",
        "dict1.update(dict2)\n",
        "dict1"
      ],
      "metadata": {
        "colab": {
          "base_uri": "https://localhost:8080/"
        },
        "id": "yReqt-_qESFq",
        "outputId": "950bfa7e-7cad-4063-9836-d61e2cfeae20"
      },
      "execution_count": 11,
      "outputs": [
        {
          "output_type": "execute_result",
          "data": {
            "text/plain": [
              "{'One': 1, 'Two': 2, 'Three': 3, 'Four': 4, 'Five': 5, 'Six': 6}"
            ]
          },
          "metadata": {},
          "execution_count": 11
        }
      ]
    },
    {
      "cell_type": "markdown",
      "source": [
        "1.2 Напишите функцию, которая на вход принимает два словаря и возвращает один объединенный словарь"
      ],
      "metadata": {
        "id": "SghRBE4zF4DW"
      }
    },
    {
      "cell_type": "code",
      "source": [
        "def func(dict1, dict2):\n",
        "  dict1.update(dict2)\n",
        "  return dict1\n",
        "\n",
        "func(dict1, dict2)"
      ],
      "metadata": {
        "colab": {
          "base_uri": "https://localhost:8080/"
        },
        "id": "Yzk1tUItF5F5",
        "outputId": "7c749b60-351f-4013-a0ff-8686b2c72fca"
      },
      "execution_count": 12,
      "outputs": [
        {
          "output_type": "execute_result",
          "data": {
            "text/plain": [
              "{'One': 1, 'Two': 2, 'Three': 3, 'Four': 4, 'Five': 5, 'Six': 6}"
            ]
          },
          "metadata": {},
          "execution_count": 12
        }
      ]
    },
    {
      "cell_type": "markdown",
      "source": [
        "***Задание 2***"
      ],
      "metadata": {
        "id": "vCpYBa0eHfa7"
      }
    },
    {
      "cell_type": "markdown",
      "source": [
        "Напишите функцию, которая из двух списков, делает один словарь, где элементы из первого списка - ключи, а элементы из второго списка - значения"
      ],
      "metadata": {
        "id": "HgYkkNXeHivY"
      }
    },
    {
      "cell_type": "markdown",
      "source": [
        "2.1 Используя цикл for"
      ],
      "metadata": {
        "id": "_RSbAZNbKH4h"
      }
    },
    {
      "cell_type": "code",
      "source": [
        "keys = ['One', 'Two', 'Three']\n",
        "values = [1, 2, 3]"
      ],
      "metadata": {
        "id": "smJSNhCHHxI5"
      },
      "execution_count": 14,
      "outputs": []
    },
    {
      "cell_type": "code",
      "source": [
        "def func2(keys, values):\n",
        "  dict3 = {}\n",
        "  for i in range (len(keys)):\n",
        "    dict3.update({keys[i]:values[i]})\n",
        "  return dict3\n",
        "\n",
        "func2(keys, values)"
      ],
      "metadata": {
        "colab": {
          "base_uri": "https://localhost:8080/"
        },
        "id": "S0TSgUYRIDDB",
        "outputId": "d8d192da-aa2e-4a9c-d1d5-013688bd3e44"
      },
      "execution_count": 17,
      "outputs": [
        {
          "output_type": "execute_result",
          "data": {
            "text/plain": [
              "{'One': 1, 'Two': 2, 'Three': 3}"
            ]
          },
          "metadata": {},
          "execution_count": 17
        }
      ]
    },
    {
      "cell_type": "markdown",
      "source": [
        "2.2 Используя dict comprehensions"
      ],
      "metadata": {
        "id": "5J0cXoSsJ_Qy"
      }
    },
    {
      "cell_type": "code",
      "source": [
        "def func3(keys, values):\n",
        "  return {keys[i]:values[i] for i in range (len(keys))}\n",
        "func3(keys, values)"
      ],
      "metadata": {
        "colab": {
          "base_uri": "https://localhost:8080/"
        },
        "id": "DM7iuB7WKCxZ",
        "outputId": "7854ae38-1333-4ea6-8a8a-00bf33eba865"
      },
      "execution_count": 21,
      "outputs": [
        {
          "output_type": "execute_result",
          "data": {
            "text/plain": [
              "{'One': 1, 'Two': 2, 'Three': 3}"
            ]
          },
          "metadata": {},
          "execution_count": 21
        }
      ]
    },
    {
      "cell_type": "markdown",
      "source": [
        "***Задание 3***"
      ],
      "metadata": {
        "id": "O32VsHLHLYiC"
      }
    },
    {
      "cell_type": "markdown",
      "source": [
        "3.1 Напишите функцию с циклом for\n",
        "\n",
        "Функция на вход принимает:\n",
        "исходный словарь\n",
        "ключи, которые нужно извлечь (аргумент по умолчанию)\n",
        "На выходе словарь с нужными ключами\n",
        "Используйте аннотирование типов\n"
      ],
      "metadata": {
        "id": "zdrxt8mHLoOz"
      }
    },
    {
      "cell_type": "code",
      "source": [
        "client_dict = {\n",
        "\"name\": \"John\",\n",
        "\"age\": 25,\n",
        "\"salary\": 5000,\n",
        "\"city\": \"Moscow\"\n",
        "}\n",
        "\n",
        "keys = ['name', 'age']\n",
        "def func4(dict4, keys):\n",
        "  dict5 = {}\n",
        "  for i in keys:\n",
        "    dict5.update({i: dict4[i]})\n",
        "  return dict5\n",
        "func4(client_dict, keys)"
      ],
      "metadata": {
        "colab": {
          "base_uri": "https://localhost:8080/"
        },
        "id": "ldolRwhMLsO7",
        "outputId": "9235961d-c50c-4bc0-93aa-baa1ec59333c"
      },
      "execution_count": 22,
      "outputs": [
        {
          "output_type": "execute_result",
          "data": {
            "text/plain": [
              "{'name': 'John', 'age': 25}"
            ]
          },
          "metadata": {},
          "execution_count": 22
        }
      ]
    },
    {
      "cell_type": "markdown",
      "source": [
        "3.2 Используя dict comprehensions"
      ],
      "metadata": {
        "id": "4lD9WOiMNTWS"
      }
    },
    {
      "cell_type": "code",
      "source": [
        "def func5(keys,dict4):\n",
        "  return {i: dict4[i] for i in keys}\n",
        "func5(keys, client_dict)"
      ],
      "metadata": {
        "colab": {
          "base_uri": "https://localhost:8080/"
        },
        "id": "JVp-G64HNVhK",
        "outputId": "da4b708c-941f-4f54-c25d-43d30e3bd7c6"
      },
      "execution_count": 23,
      "outputs": [
        {
          "output_type": "execute_result",
          "data": {
            "text/plain": [
              "{'name': 'John', 'age': 25}"
            ]
          },
          "metadata": {},
          "execution_count": 23
        }
      ]
    },
    {
      "cell_type": "markdown",
      "source": [
        "***Задание 4***"
      ],
      "metadata": {
        "id": "dNu2OO-eOAgi"
      }
    },
    {
      "cell_type": "markdown",
      "source": [
        "4.1 Сгенерируйте случайные целые числа от 0 до 100 в количестве 5 штук с помощью модуля random\n",
        "\n",
        "\n",
        "*   Зафиксируйте псевдогенерацию, чтобы сгенерированные значения всегда были одинаковые\n",
        "*   Используйте list comprehensions\n",
        "\n",
        "\n",
        "\n",
        "\n"
      ],
      "metadata": {
        "id": "HlbKHYolOBuK"
      }
    },
    {
      "cell_type": "code",
      "source": [
        "import random\n",
        "random.seed(10)\n",
        "list1 = [random.randint(0,100) for i in range (5)]\n",
        "list1"
      ],
      "metadata": {
        "colab": {
          "base_uri": "https://localhost:8080/"
        },
        "id": "hvuZB9p0SgAj",
        "outputId": "1513dc3c-483e-451a-bbc7-1b8f5d370e38"
      },
      "execution_count": 27,
      "outputs": [
        {
          "output_type": "execute_result",
          "data": {
            "text/plain": [
              "[73, 4, 54, 61, 73]"
            ]
          },
          "metadata": {},
          "execution_count": 27
        }
      ]
    },
    {
      "cell_type": "markdown",
      "source": [
        "4.2 Напишите генератор\n",
        " \n",
        "*   Генератор на вход принимает список с данными о клиенте (данные из пункта 4.1)\n",
        "*   Внутри генератора реализуйте обход по списку с данными\n",
        "\n",
        "На каждой итерации генератор будет возвращать кортеж из двух элементов:\n",
        "1.   данные по клиенту (в зависимости от итерации, на 0 итерации вернется 0 элемент, на 1 итерации вернется 1 элемент и тд)\n",
        "2.   целочисленное значение, которое показывает, сколько секунд прошло с предыдущей итерации\n",
        "\n",
        "Примечание: секунды, которые возвращаются должны показывать время не с начала запуска генератора, а именно то время, которое прошло с предыдущей итерации. А значит время на первой итерации должно равняться 0.\n",
        "\n",
        "*   Используйте функцию time из модуля time для подсчета времени.\n",
        "*   Чтобы проверить работу таймера, запустите проход по генератору в цикле с time.sleep(2)"
      ],
      "metadata": {
        "id": "rrNiOQZ1PvM0"
      }
    },
    {
      "cell_type": "code",
      "source": [
        "import time\n",
        "def func6(list1):\n",
        "  last_time = None\n",
        "  for i in list1:\n",
        "    current_time = time.time()\n",
        "    if last_time: d = current_time - last_time\n",
        "    else: d = current_time - current_time\n",
        "    last_time = time.time()\n",
        "    yield (int(d), i)\n",
        "\n",
        "for i in func6(list1):\n",
        "  print(i)\n",
        "  time.sleep(2)"
      ],
      "metadata": {
        "colab": {
          "base_uri": "https://localhost:8080/"
        },
        "id": "Gwm9U2R6ZXmu",
        "outputId": "2678042a-0c27-4c04-d29d-d00b6fb7794d"
      },
      "execution_count": 28,
      "outputs": [
        {
          "output_type": "stream",
          "name": "stdout",
          "text": [
            "(0, 73)\n",
            "(2, 4)\n",
            "(2, 54)\n",
            "(2, 61)\n",
            "(2, 73)\n"
          ]
        }
      ]
    },
    {
      "cell_type": "markdown",
      "source": [
        "***Задание 5***"
      ],
      "metadata": {
        "id": "Ua9py-E1PwmX"
      }
    },
    {
      "cell_type": "markdown",
      "source": [
        "5.1 Найдите картинку в интернете и прикрепите её в ячейку с текстом\n"
      ],
      "metadata": {
        "id": "721ujm0dP3vC"
      }
    },
    {
      "cell_type": "markdown",
      "source": [
        "<img src=https://cdn.playcaliber.com/site/media/news/2021/06/01/4-%D0%A2%D0%B0%D0%B1%D0%BB%D0%B8%D1%86%D0%B0-%D0%BC%D0%B0%D0%BB%D0%B5%D0%BD%D1%8C%D0%BA%D0%B0%D1%8F-%D0%BF%D0%BE-%D1%80%D0%B5%D0%B6%D0%B8%D0%BC%D0%B0%D0%BC-1280%D1%85853.jpg>"
      ],
      "metadata": {
        "id": "HtpAntuwOdXt"
      }
    },
    {
      "cell_type": "markdown",
      "source": [
        "5.2 Создайте следующую таблицу в ячейке с текстом"
      ],
      "metadata": {
        "id": "Ga7IwFwnP_FS"
      }
    },
    {
      "cell_type": "markdown",
      "source": [
        "<table>\n",
        "  <tr>\n",
        "    <td> </td>\n",
        "    <td> до события </td>\n",
        "    <td> во время события </td>\n",
        "    </tr>\n",
        "    <tr>\n",
        "    <td> 1 контрольная точка </td>\n",
        "    <td> 250 </td>\n",
        "    <td> 500 </td>\n",
        "    </tr>\n",
        "    <tr>\n",
        "    <td> 2 контрольная точка </td>\n",
        "    <td> 350 </td>\n",
        "    <td> 700 </td>\n",
        "    </tr>\n",
        "    <tr>\n",
        "    <td> 3 контрольная точка </td>\n",
        "    <td> 400 </td>\n",
        "    <td> 800 </td>\n",
        "    </tr>\n",
        "  </table>"
      ],
      "metadata": {
        "id": "T00mo2r_Qhmy"
      }
    },
    {
      "cell_type": "markdown",
      "source": [
        "***Задание 6***"
      ],
      "metadata": {
        "id": "rcTdZAM0QVUC"
      }
    },
    {
      "cell_type": "markdown",
      "source": [
        "Напишите функцию, которая может принимать любое количество трат пользователя и считать сумму и среднее.\n",
        "*   На вход поступают целочисленные значения в любом количестве\n",
        "*   На выходе словарь с ключами суммы трат и средней траты"
      ],
      "metadata": {
        "id": "AmRI1PoAQXE6"
      }
    },
    {
      "cell_type": "code",
      "source": [
        "def sum_numbers(*numbers):\n",
        "  a = sum(numbers)\n",
        "  b = len(numbers)\n",
        "  return {\"sum\":a, \"mean\": a/b}\n",
        "sum_numbers(1,2,3,4,5,6)"
      ],
      "metadata": {
        "colab": {
          "base_uri": "https://localhost:8080/"
        },
        "id": "m_dAOPo4SNDM",
        "outputId": "743dace7-0f5d-42d7-f10f-12888754bb41"
      },
      "execution_count": 24,
      "outputs": [
        {
          "output_type": "execute_result",
          "data": {
            "text/plain": [
              "{'sum': 21, 'mean': 3.5}"
            ]
          },
          "metadata": {},
          "execution_count": 24
        }
      ]
    }
  ]
}